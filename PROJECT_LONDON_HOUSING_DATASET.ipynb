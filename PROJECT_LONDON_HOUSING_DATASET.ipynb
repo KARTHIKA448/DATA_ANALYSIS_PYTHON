{
 "cells": [
  {
   "cell_type": "markdown",
   "id": "12c61451",
   "metadata": {},
   "source": [
    "# LONDON_HOUSING_DATASET using pandas"
   ]
  },
  {
   "cell_type": "code",
   "execution_count": 1,
   "id": "20394a65",
   "metadata": {
    "scrolled": true
   },
   "outputs": [
    {
     "name": "stdout",
     "output_type": "stream",
     "text": [
      " Volume in drive C has no label.\n",
      " Volume Serial Number is 9CB9-E181\n",
      "\n",
      " Directory of C:\\SELF PROJECTS\\PR_4_DA_LONDON_HOUSING\n",
      "\n",
      "12/03/2023  11:08 AM    <DIR>          .\n",
      "12/03/2023  11:08 AM    <DIR>          ..\n",
      "12/03/2023  11:08 AM    <DIR>          .ipynb_checkpoints\n",
      "12/01/2023  10:44 AM           609,575 London_Housing_Data.csv\n",
      "12/02/2023  11:19 AM            63,318 LONDON_HOUSING_DATASET.ipynb\n",
      "12/03/2023  11:07 AM                72 PROJECT_LONDON_HOUSING_DATASET.ipynb\n",
      "               3 File(s)        672,965 bytes\n",
      "               3 Dir(s)  32,027,250,688 bytes free\n"
     ]
    }
   ],
   "source": [
    "!dir"
   ]
  },
  {
   "cell_type": "code",
   "execution_count": 2,
   "id": "bc995854",
   "metadata": {},
   "outputs": [],
   "source": [
    "import pandas as pd"
   ]
  },
  {
   "cell_type": "code",
   "execution_count": 3,
   "id": "ce29d756",
   "metadata": {
    "scrolled": true
   },
   "outputs": [
    {
     "data": {
      "text/html": [
       "<div>\n",
       "<style scoped>\n",
       "    .dataframe tbody tr th:only-of-type {\n",
       "        vertical-align: middle;\n",
       "    }\n",
       "\n",
       "    .dataframe tbody tr th {\n",
       "        vertical-align: top;\n",
       "    }\n",
       "\n",
       "    .dataframe thead th {\n",
       "        text-align: right;\n",
       "    }\n",
       "</style>\n",
       "<table border=\"1\" class=\"dataframe\">\n",
       "  <thead>\n",
       "    <tr style=\"text-align: right;\">\n",
       "      <th></th>\n",
       "      <th>date</th>\n",
       "      <th>area</th>\n",
       "      <th>average_price</th>\n",
       "      <th>code</th>\n",
       "      <th>houses_sold</th>\n",
       "      <th>no_of_crimes</th>\n",
       "    </tr>\n",
       "  </thead>\n",
       "  <tbody>\n",
       "    <tr>\n",
       "      <th>0</th>\n",
       "      <td>1/1/1995</td>\n",
       "      <td>city of london</td>\n",
       "      <td>91449</td>\n",
       "      <td>E09000001</td>\n",
       "      <td>17.0</td>\n",
       "      <td>NaN</td>\n",
       "    </tr>\n",
       "    <tr>\n",
       "      <th>1</th>\n",
       "      <td>2/1/1995</td>\n",
       "      <td>city of london</td>\n",
       "      <td>82203</td>\n",
       "      <td>E09000001</td>\n",
       "      <td>7.0</td>\n",
       "      <td>NaN</td>\n",
       "    </tr>\n",
       "    <tr>\n",
       "      <th>2</th>\n",
       "      <td>3/1/1995</td>\n",
       "      <td>city of london</td>\n",
       "      <td>79121</td>\n",
       "      <td>E09000001</td>\n",
       "      <td>14.0</td>\n",
       "      <td>NaN</td>\n",
       "    </tr>\n",
       "    <tr>\n",
       "      <th>3</th>\n",
       "      <td>4/1/1995</td>\n",
       "      <td>city of london</td>\n",
       "      <td>77101</td>\n",
       "      <td>E09000001</td>\n",
       "      <td>7.0</td>\n",
       "      <td>NaN</td>\n",
       "    </tr>\n",
       "    <tr>\n",
       "      <th>4</th>\n",
       "      <td>5/1/1995</td>\n",
       "      <td>city of london</td>\n",
       "      <td>84409</td>\n",
       "      <td>E09000001</td>\n",
       "      <td>10.0</td>\n",
       "      <td>NaN</td>\n",
       "    </tr>\n",
       "    <tr>\n",
       "      <th>...</th>\n",
       "      <td>...</td>\n",
       "      <td>...</td>\n",
       "      <td>...</td>\n",
       "      <td>...</td>\n",
       "      <td>...</td>\n",
       "      <td>...</td>\n",
       "    </tr>\n",
       "    <tr>\n",
       "      <th>13544</th>\n",
       "      <td>9/1/2019</td>\n",
       "      <td>england</td>\n",
       "      <td>249942</td>\n",
       "      <td>E92000001</td>\n",
       "      <td>64605.0</td>\n",
       "      <td>NaN</td>\n",
       "    </tr>\n",
       "    <tr>\n",
       "      <th>13545</th>\n",
       "      <td>10/1/2019</td>\n",
       "      <td>england</td>\n",
       "      <td>249376</td>\n",
       "      <td>E92000001</td>\n",
       "      <td>68677.0</td>\n",
       "      <td>NaN</td>\n",
       "    </tr>\n",
       "    <tr>\n",
       "      <th>13546</th>\n",
       "      <td>11/1/2019</td>\n",
       "      <td>england</td>\n",
       "      <td>248515</td>\n",
       "      <td>E92000001</td>\n",
       "      <td>67814.0</td>\n",
       "      <td>NaN</td>\n",
       "    </tr>\n",
       "    <tr>\n",
       "      <th>13547</th>\n",
       "      <td>12/1/2019</td>\n",
       "      <td>england</td>\n",
       "      <td>250410</td>\n",
       "      <td>E92000001</td>\n",
       "      <td>NaN</td>\n",
       "      <td>NaN</td>\n",
       "    </tr>\n",
       "    <tr>\n",
       "      <th>13548</th>\n",
       "      <td>1/1/2020</td>\n",
       "      <td>england</td>\n",
       "      <td>247355</td>\n",
       "      <td>E92000001</td>\n",
       "      <td>NaN</td>\n",
       "      <td>NaN</td>\n",
       "    </tr>\n",
       "  </tbody>\n",
       "</table>\n",
       "<p>13549 rows × 6 columns</p>\n",
       "</div>"
      ],
      "text/plain": [
       "            date            area  average_price       code  houses_sold  \\\n",
       "0       1/1/1995  city of london          91449  E09000001         17.0   \n",
       "1       2/1/1995  city of london          82203  E09000001          7.0   \n",
       "2       3/1/1995  city of london          79121  E09000001         14.0   \n",
       "3       4/1/1995  city of london          77101  E09000001          7.0   \n",
       "4       5/1/1995  city of london          84409  E09000001         10.0   \n",
       "...          ...             ...            ...        ...          ...   \n",
       "13544   9/1/2019         england         249942  E92000001      64605.0   \n",
       "13545  10/1/2019         england         249376  E92000001      68677.0   \n",
       "13546  11/1/2019         england         248515  E92000001      67814.0   \n",
       "13547  12/1/2019         england         250410  E92000001          NaN   \n",
       "13548   1/1/2020         england         247355  E92000001          NaN   \n",
       "\n",
       "       no_of_crimes  \n",
       "0               NaN  \n",
       "1               NaN  \n",
       "2               NaN  \n",
       "3               NaN  \n",
       "4               NaN  \n",
       "...             ...  \n",
       "13544           NaN  \n",
       "13545           NaN  \n",
       "13546           NaN  \n",
       "13547           NaN  \n",
       "13548           NaN  \n",
       "\n",
       "[13549 rows x 6 columns]"
      ]
     },
     "execution_count": 3,
     "metadata": {},
     "output_type": "execute_result"
    }
   ],
   "source": [
    "df = pd.read_csv(\"London_Housing_Data.csv\")\n",
    "df"
   ]
  },
  {
   "cell_type": "markdown",
   "id": "ea30d058",
   "metadata": {},
   "source": [
    "    This dataset is taken from kaggle: \n",
    "\n",
    "    It tells about:\n",
    "        -Monthly average house prices\n",
    "        -Yearly number of houses sold\n",
    "        -Monthly number of crimes committed\n",
    "        -Starts data from year 1995 to 2019 of each different area\n",
    "        -Analyses data using Pandas dataframe\n"
   ]
  },
  {
   "cell_type": "code",
   "execution_count": 4,
   "id": "979d186f",
   "metadata": {},
   "outputs": [
    {
     "data": {
      "text/plain": [
       "(13549, 6)"
      ]
     },
     "execution_count": 4,
     "metadata": {},
     "output_type": "execute_result"
    }
   ],
   "source": [
    "df.shape"
   ]
  },
  {
   "cell_type": "code",
   "execution_count": 6,
   "id": "b4543f2b",
   "metadata": {},
   "outputs": [],
   "source": [
    "# there are 13549 rows and 6 columns"
   ]
  },
  {
   "cell_type": "code",
   "execution_count": 5,
   "id": "fa5e54b0",
   "metadata": {},
   "outputs": [
    {
     "data": {
      "text/plain": [
       "81294"
      ]
     },
     "execution_count": 5,
     "metadata": {},
     "output_type": "execute_result"
    }
   ],
   "source": [
    "df.size"
   ]
  },
  {
   "cell_type": "code",
   "execution_count": 7,
   "id": "8d45c330",
   "metadata": {},
   "outputs": [],
   "source": [
    "# there are 81294 elements in the dataset"
   ]
  },
  {
   "cell_type": "code",
   "execution_count": 8,
   "id": "7686a1d7",
   "metadata": {},
   "outputs": [
    {
     "data": {
      "text/plain": [
       "Index(['date', 'area', 'average_price', 'code', 'houses_sold', 'no_of_crimes'], dtype='object')"
      ]
     },
     "execution_count": 8,
     "metadata": {},
     "output_type": "execute_result"
    }
   ],
   "source": [
    "df.columns"
   ]
  },
  {
   "cell_type": "markdown",
   "id": "a666cbae",
   "metadata": {},
   "source": [
    "    columns present in the dataset:\n",
    "        * date - \n",
    "        * area - \n",
    "        * average_price - Monthly average house prices\n",
    "        * code - \n",
    "        * houses_sold - Yearly number of houses sold\n",
    "        * no_of_crimes - Monthly number of crimes committed\n"
   ]
  },
  {
   "cell_type": "code",
   "execution_count": 10,
   "id": "940f3ea5",
   "metadata": {},
   "outputs": [
    {
     "data": {
      "text/plain": [
       "date             13549\n",
       "area             13549\n",
       "average_price    13549\n",
       "code             13549\n",
       "houses_sold      13455\n",
       "no_of_crimes      7439\n",
       "dtype: int64"
      ]
     },
     "execution_count": 10,
     "metadata": {},
     "output_type": "execute_result"
    }
   ],
   "source": [
    "df.count() # returns non-null values"
   ]
  },
  {
   "cell_type": "code",
   "execution_count": 11,
   "id": "e3e106d1",
   "metadata": {},
   "outputs": [
    {
     "data": {
      "text/plain": [
       "date                0\n",
       "area                0\n",
       "average_price       0\n",
       "code                0\n",
       "houses_sold        94\n",
       "no_of_crimes     6110\n",
       "dtype: int64"
      ]
     },
     "execution_count": 11,
     "metadata": {},
     "output_type": "execute_result"
    }
   ],
   "source": [
    "df.isnull().sum() # returns null values"
   ]
  },
  {
   "cell_type": "markdown",
   "id": "8672f800",
   "metadata": {},
   "source": [
    "null values means missing values.they are not zeros"
   ]
  },
  {
   "cell_type": "code",
   "execution_count": 12,
   "id": "21171918",
   "metadata": {},
   "outputs": [],
   "source": [
    "# importing libraries\n",
    "import seaborn as sns\n",
    "import matplotlib.pyplot as plt\n"
   ]
  },
  {
   "cell_type": "code",
   "execution_count": 15,
   "id": "60c45027",
   "metadata": {},
   "outputs": [
    {
     "data": {
      "image/png": "[encoded data removed]",
      "text/plain": [
       "<Figure size 640x480 with 2 Axes>"
      ]
     },
     "metadata": {},
     "output_type": "display_data"
    }
   ],
   "source": [
    "sns.heatmap(df.isnull()) # heatmap to show null values\n",
    "plt.title(\"HEATMAP TO SHOW NULL VALUES\")\n",
    "plt.show()"
   ]
  },
  {
   "cell_type": "code",
   "execution_count": 16,
   "id": "a2b563ee",
   "metadata": {},
   "outputs": [],
   "source": [
    "# here white color shows null values and black color non-null values"
   ]
  },
  {
   "cell_type": "markdown",
   "id": "05be90cb",
   "metadata": {},
   "source": [
    "###### 1. convert the datatype of date column to date-Time format"
   ]
  },
  {
   "cell_type": "code",
   "execution_count": 17,
   "id": "5703a467",
   "metadata": {},
   "outputs": [
    {
     "data": {
      "text/plain": [
       "date              object\n",
       "area              object\n",
       "average_price      int64\n",
       "code              object\n",
       "houses_sold      float64\n",
       "no_of_crimes     float64\n",
       "dtype: object"
      ]
     },
     "execution_count": 17,
     "metadata": {},
     "output_type": "execute_result"
    }
   ],
   "source": [
    "df.dtypes"
   ]
  },
  {
   "cell_type": "code",
   "execution_count": 22,
   "id": "029e9ffc",
   "metadata": {},
   "outputs": [],
   "source": [
    "df[\"date\"] = pd.to_datetime(df[\"date\"])"
   ]
  },
  {
   "cell_type": "code",
   "execution_count": 23,
   "id": "2ec3ca11",
   "metadata": {},
   "outputs": [
    {
     "data": {
      "text/plain": [
       "date             datetime64[ns]\n",
       "area                     object\n",
       "average_price             int64\n",
       "code                     object\n",
       "houses_sold             float64\n",
       "no_of_crimes            float64\n",
       "dtype: object"
      ]
     },
     "execution_count": 23,
     "metadata": {},
     "output_type": "execute_result"
    }
   ],
   "source": [
    "df.dtypes"
   ]
  },
  {
   "cell_type": "markdown",
   "id": "a24607ff",
   "metadata": {},
   "source": [
    "###### 2.1 Adding a new column in the dataframe which contains year only"
   ]
  },
  {
   "cell_type": "code",
   "execution_count": 26,
   "id": "4c4b0255",
   "metadata": {},
   "outputs": [],
   "source": [
    "df[\"year\"] = df[\"date\"].dt.year"
   ]
  },
  {
   "cell_type": "code",
   "execution_count": 27,
   "id": "d593e416",
   "metadata": {},
   "outputs": [
    {
     "data": {
      "text/html": [
       "<div>\n",
       "<style scoped>\n",
       "    .dataframe tbody tr th:only-of-type {\n",
       "        vertical-align: middle;\n",
       "    }\n",
       "\n",
       "    .dataframe tbody tr th {\n",
       "        vertical-align: top;\n",
       "    }\n",
       "\n",
       "    .dataframe thead th {\n",
       "        text-align: right;\n",
       "    }\n",
       "</style>\n",
       "<table border=\"1\" class=\"dataframe\">\n",
       "  <thead>\n",
       "    <tr style=\"text-align: right;\">\n",
       "      <th></th>\n",
       "      <th>date</th>\n",
       "      <th>area</th>\n",
       "      <th>average_price</th>\n",
       "      <th>code</th>\n",
       "      <th>houses_sold</th>\n",
       "      <th>no_of_crimes</th>\n",
       "      <th>year</th>\n",
       "    </tr>\n",
       "  </thead>\n",
       "  <tbody>\n",
       "    <tr>\n",
       "      <th>0</th>\n",
       "      <td>1995-01-01</td>\n",
       "      <td>city of london</td>\n",
       "      <td>91449</td>\n",
       "      <td>E09000001</td>\n",
       "      <td>17.0</td>\n",
       "      <td>NaN</td>\n",
       "      <td>1995</td>\n",
       "    </tr>\n",
       "    <tr>\n",
       "      <th>1</th>\n",
       "      <td>1995-02-01</td>\n",
       "      <td>city of london</td>\n",
       "      <td>82203</td>\n",
       "      <td>E09000001</td>\n",
       "      <td>7.0</td>\n",
       "      <td>NaN</td>\n",
       "      <td>1995</td>\n",
       "    </tr>\n",
       "    <tr>\n",
       "      <th>2</th>\n",
       "      <td>1995-03-01</td>\n",
       "      <td>city of london</td>\n",
       "      <td>79121</td>\n",
       "      <td>E09000001</td>\n",
       "      <td>14.0</td>\n",
       "      <td>NaN</td>\n",
       "      <td>1995</td>\n",
       "    </tr>\n",
       "    <tr>\n",
       "      <th>3</th>\n",
       "      <td>1995-04-01</td>\n",
       "      <td>city of london</td>\n",
       "      <td>77101</td>\n",
       "      <td>E09000001</td>\n",
       "      <td>7.0</td>\n",
       "      <td>NaN</td>\n",
       "      <td>1995</td>\n",
       "    </tr>\n",
       "    <tr>\n",
       "      <th>4</th>\n",
       "      <td>1995-05-01</td>\n",
       "      <td>city of london</td>\n",
       "      <td>84409</td>\n",
       "      <td>E09000001</td>\n",
       "      <td>10.0</td>\n",
       "      <td>NaN</td>\n",
       "      <td>1995</td>\n",
       "    </tr>\n",
       "    <tr>\n",
       "      <th>...</th>\n",
       "      <td>...</td>\n",
       "      <td>...</td>\n",
       "      <td>...</td>\n",
       "      <td>...</td>\n",
       "      <td>...</td>\n",
       "      <td>...</td>\n",
       "      <td>...</td>\n",
       "    </tr>\n",
       "    <tr>\n",
       "      <th>13544</th>\n",
       "      <td>2019-09-01</td>\n",
       "      <td>england</td>\n",
       "      <td>249942</td>\n",
       "      <td>E92000001</td>\n",
       "      <td>64605.0</td>\n",
       "      <td>NaN</td>\n",
       "      <td>2019</td>\n",
       "    </tr>\n",
       "    <tr>\n",
       "      <th>13545</th>\n",
       "      <td>2019-10-01</td>\n",
       "      <td>england</td>\n",
       "      <td>249376</td>\n",
       "      <td>E92000001</td>\n",
       "      <td>68677.0</td>\n",
       "      <td>NaN</td>\n",
       "      <td>2019</td>\n",
       "    </tr>\n",
       "    <tr>\n",
       "      <th>13546</th>\n",
       "      <td>2019-11-01</td>\n",
       "      <td>england</td>\n",
       "      <td>248515</td>\n",
       "      <td>E92000001</td>\n",
       "      <td>67814.0</td>\n",
       "      <td>NaN</td>\n",
       "      <td>2019</td>\n",
       "    </tr>\n",
       "    <tr>\n",
       "      <th>13547</th>\n",
       "      <td>2019-12-01</td>\n",
       "      <td>england</td>\n",
       "      <td>250410</td>\n",
       "      <td>E92000001</td>\n",
       "      <td>NaN</td>\n",
       "      <td>NaN</td>\n",
       "      <td>2019</td>\n",
       "    </tr>\n",
       "    <tr>\n",
       "      <th>13548</th>\n",
       "      <td>2020-01-01</td>\n",
       "      <td>england</td>\n",
       "      <td>247355</td>\n",
       "      <td>E92000001</td>\n",
       "      <td>NaN</td>\n",
       "      <td>NaN</td>\n",
       "      <td>2020</td>\n",
       "    </tr>\n",
       "  </tbody>\n",
       "</table>\n",
       "<p>13549 rows × 7 columns</p>\n",
       "</div>"
      ],
      "text/plain": [
       "            date            area  average_price       code  houses_sold  \\\n",
       "0     1995-01-01  city of london          91449  E09000001         17.0   \n",
       "1     1995-02-01  city of london          82203  E09000001          7.0   \n",
       "2     1995-03-01  city of london          79121  E09000001         14.0   \n",
       "3     1995-04-01  city of london          77101  E09000001          7.0   \n",
       "4     1995-05-01  city of london          84409  E09000001         10.0   \n",
       "...          ...             ...            ...        ...          ...   \n",
       "13544 2019-09-01         england         249942  E92000001      64605.0   \n",
       "13545 2019-10-01         england         249376  E92000001      68677.0   \n",
       "13546 2019-11-01         england         248515  E92000001      67814.0   \n",
       "13547 2019-12-01         england         250410  E92000001          NaN   \n",
       "13548 2020-01-01         england         247355  E92000001          NaN   \n",
       "\n",
       "       no_of_crimes  year  \n",
       "0               NaN  1995  \n",
       "1               NaN  1995  \n",
       "2               NaN  1995  \n",
       "3               NaN  1995  \n",
       "4               NaN  1995  \n",
       "...             ...   ...  \n",
       "13544           NaN  2019  \n",
       "13545           NaN  2019  \n",
       "13546           NaN  2019  \n",
       "13547           NaN  2019  \n",
       "13548           NaN  2020  \n",
       "\n",
       "[13549 rows x 7 columns]"
      ]
     },
     "execution_count": 27,
     "metadata": {},
     "output_type": "execute_result"
    }
   ],
   "source": [
    "df"
   ]
  },
  {
   "cell_type": "markdown",
   "id": "94848cc7",
   "metadata": {},
   "source": [
    "###### 2.2 Add a new column \"month\" as 2nd column in the dataframe,which contains month only"
   ]
  },
  {
   "cell_type": "code",
   "execution_count": 28,
   "id": "a0a4d0bb",
   "metadata": {},
   "outputs": [],
   "source": [
    "df.insert(1,\"month\",df[\"date\"].dt.month)"
   ]
  },
  {
   "cell_type": "code",
   "execution_count": 29,
   "id": "c27cbe65",
   "metadata": {},
   "outputs": [
    {
     "data": {
      "text/html": [
       "<div>\n",
       "<style scoped>\n",
       "    .dataframe tbody tr th:only-of-type {\n",
       "        vertical-align: middle;\n",
       "    }\n",
       "\n",
       "    .dataframe tbody tr th {\n",
       "        vertical-align: top;\n",
       "    }\n",
       "\n",
       "    .dataframe thead th {\n",
       "        text-align: right;\n",
       "    }\n",
       "</style>\n",
       "<table border=\"1\" class=\"dataframe\">\n",
       "  <thead>\n",
       "    <tr style=\"text-align: right;\">\n",
       "      <th></th>\n",
       "      <th>date</th>\n",
       "      <th>month</th>\n",
       "      <th>area</th>\n",
       "      <th>average_price</th>\n",
       "      <th>code</th>\n",
       "      <th>houses_sold</th>\n",
       "      <th>no_of_crimes</th>\n",
       "      <th>year</th>\n",
       "    </tr>\n",
       "  </thead>\n",
       "  <tbody>\n",
       "    <tr>\n",
       "      <th>0</th>\n",
       "      <td>1995-01-01</td>\n",
       "      <td>1</td>\n",
       "      <td>city of london</td>\n",
       "      <td>91449</td>\n",
       "      <td>E09000001</td>\n",
       "      <td>17.0</td>\n",
       "      <td>NaN</td>\n",
       "      <td>1995</td>\n",
       "    </tr>\n",
       "    <tr>\n",
       "      <th>1</th>\n",
       "      <td>1995-02-01</td>\n",
       "      <td>2</td>\n",
       "      <td>city of london</td>\n",
       "      <td>82203</td>\n",
       "      <td>E09000001</td>\n",
       "      <td>7.0</td>\n",
       "      <td>NaN</td>\n",
       "      <td>1995</td>\n",
       "    </tr>\n",
       "    <tr>\n",
       "      <th>2</th>\n",
       "      <td>1995-03-01</td>\n",
       "      <td>3</td>\n",
       "      <td>city of london</td>\n",
       "      <td>79121</td>\n",
       "      <td>E09000001</td>\n",
       "      <td>14.0</td>\n",
       "      <td>NaN</td>\n",
       "      <td>1995</td>\n",
       "    </tr>\n",
       "    <tr>\n",
       "      <th>3</th>\n",
       "      <td>1995-04-01</td>\n",
       "      <td>4</td>\n",
       "      <td>city of london</td>\n",
       "      <td>77101</td>\n",
       "      <td>E09000001</td>\n",
       "      <td>7.0</td>\n",
       "      <td>NaN</td>\n",
       "      <td>1995</td>\n",
       "    </tr>\n",
       "    <tr>\n",
       "      <th>4</th>\n",
       "      <td>1995-05-01</td>\n",
       "      <td>5</td>\n",
       "      <td>city of london</td>\n",
       "      <td>84409</td>\n",
       "      <td>E09000001</td>\n",
       "      <td>10.0</td>\n",
       "      <td>NaN</td>\n",
       "      <td>1995</td>\n",
       "    </tr>\n",
       "    <tr>\n",
       "      <th>...</th>\n",
       "      <td>...</td>\n",
       "      <td>...</td>\n",
       "      <td>...</td>\n",
       "      <td>...</td>\n",
       "      <td>...</td>\n",
       "      <td>...</td>\n",
       "      <td>...</td>\n",
       "      <td>...</td>\n",
       "    </tr>\n",
       "    <tr>\n",
       "      <th>13544</th>\n",
       "      <td>2019-09-01</td>\n",
       "      <td>9</td>\n",
       "      <td>england</td>\n",
       "      <td>249942</td>\n",
       "      <td>E92000001</td>\n",
       "      <td>64605.0</td>\n",
       "      <td>NaN</td>\n",
       "      <td>2019</td>\n",
       "    </tr>\n",
       "    <tr>\n",
       "      <th>13545</th>\n",
       "      <td>2019-10-01</td>\n",
       "      <td>10</td>\n",
       "      <td>england</td>\n",
       "      <td>249376</td>\n",
       "      <td>E92000001</td>\n",
       "      <td>68677.0</td>\n",
       "      <td>NaN</td>\n",
       "      <td>2019</td>\n",
       "    </tr>\n",
       "    <tr>\n",
       "      <th>13546</th>\n",
       "      <td>2019-11-01</td>\n",
       "      <td>11</td>\n",
       "      <td>england</td>\n",
       "      <td>248515</td>\n",
       "      <td>E92000001</td>\n",
       "      <td>67814.0</td>\n",
       "      <td>NaN</td>\n",
       "      <td>2019</td>\n",
       "    </tr>\n",
       "    <tr>\n",
       "      <th>13547</th>\n",
       "      <td>2019-12-01</td>\n",
       "      <td>12</td>\n",
       "      <td>england</td>\n",
       "      <td>250410</td>\n",
       "      <td>E92000001</td>\n",
       "      <td>NaN</td>\n",
       "      <td>NaN</td>\n",
       "      <td>2019</td>\n",
       "    </tr>\n",
       "    <tr>\n",
       "      <th>13548</th>\n",
       "      <td>2020-01-01</td>\n",
       "      <td>1</td>\n",
       "      <td>england</td>\n",
       "      <td>247355</td>\n",
       "      <td>E92000001</td>\n",
       "      <td>NaN</td>\n",
       "      <td>NaN</td>\n",
       "      <td>2020</td>\n",
       "    </tr>\n",
       "  </tbody>\n",
       "</table>\n",
       "<p>13549 rows × 8 columns</p>\n",
       "</div>"
      ],
      "text/plain": [
       "            date  month            area  average_price       code  \\\n",
       "0     1995-01-01      1  city of london          91449  E09000001   \n",
       "1     1995-02-01      2  city of london          82203  E09000001   \n",
       "2     1995-03-01      3  city of london          79121  E09000001   \n",
       "3     1995-04-01      4  city of london          77101  E09000001   \n",
       "4     1995-05-01      5  city of london          84409  E09000001   \n",
       "...          ...    ...             ...            ...        ...   \n",
       "13544 2019-09-01      9         england         249942  E92000001   \n",
       "13545 2019-10-01     10         england         249376  E92000001   \n",
       "13546 2019-11-01     11         england         248515  E92000001   \n",
       "13547 2019-12-01     12         england         250410  E92000001   \n",
       "13548 2020-01-01      1         england         247355  E92000001   \n",
       "\n",
       "       houses_sold  no_of_crimes  year  \n",
       "0             17.0           NaN  1995  \n",
       "1              7.0           NaN  1995  \n",
       "2             14.0           NaN  1995  \n",
       "3              7.0           NaN  1995  \n",
       "4             10.0           NaN  1995  \n",
       "...            ...           ...   ...  \n",
       "13544      64605.0           NaN  2019  \n",
       "13545      68677.0           NaN  2019  \n",
       "13546      67814.0           NaN  2019  \n",
       "13547          NaN           NaN  2019  \n",
       "13548          NaN           NaN  2020  \n",
       "\n",
       "[13549 rows x 8 columns]"
      ]
     },
     "execution_count": 29,
     "metadata": {},
     "output_type": "execute_result"
    }
   ],
   "source": [
    "df"
   ]
  },
  {
   "cell_type": "markdown",
   "id": "ff0963f7",
   "metadata": {},
   "source": [
    "###### 3. remove the columns 'year' and 'month' from the dataframe"
   ]
  },
  {
   "cell_type": "code",
   "execution_count": 30,
   "id": "554687fc",
   "metadata": {},
   "outputs": [],
   "source": [
    "df.drop([\"month\",\"year\"],axis=1,inplace=True) \n",
    "# axis=1, it represents column axis and  inplace used to make this change in our dataset "
   ]
  },
  {
   "cell_type": "code",
   "execution_count": 31,
   "id": "78ac7f06",
   "metadata": {},
   "outputs": [
    {
     "data": {
      "text/html": [
       "<div>\n",
       "<style scoped>\n",
       "    .dataframe tbody tr th:only-of-type {\n",
       "        vertical-align: middle;\n",
       "    }\n",
       "\n",
       "    .dataframe tbody tr th {\n",
       "        vertical-align: top;\n",
       "    }\n",
       "\n",
       "    .dataframe thead th {\n",
       "        text-align: right;\n",
       "    }\n",
       "</style>\n",
       "<table border=\"1\" class=\"dataframe\">\n",
       "  <thead>\n",
       "    <tr style=\"text-align: right;\">\n",
       "      <th></th>\n",
       "      <th>date</th>\n",
       "      <th>area</th>\n",
       "      <th>average_price</th>\n",
       "      <th>code</th>\n",
       "      <th>houses_sold</th>\n",
       "      <th>no_of_crimes</th>\n",
       "    </tr>\n",
       "  </thead>\n",
       "  <tbody>\n",
       "    <tr>\n",
       "      <th>0</th>\n",
       "      <td>1995-01-01</td>\n",
       "      <td>city of london</td>\n",
       "      <td>91449</td>\n",
       "      <td>E09000001</td>\n",
       "      <td>17.0</td>\n",
       "      <td>NaN</td>\n",
       "    </tr>\n",
       "    <tr>\n",
       "      <th>1</th>\n",
       "      <td>1995-02-01</td>\n",
       "      <td>city of london</td>\n",
       "      <td>82203</td>\n",
       "      <td>E09000001</td>\n",
       "      <td>7.0</td>\n",
       "      <td>NaN</td>\n",
       "    </tr>\n",
       "    <tr>\n",
       "      <th>2</th>\n",
       "      <td>1995-03-01</td>\n",
       "      <td>city of london</td>\n",
       "      <td>79121</td>\n",
       "      <td>E09000001</td>\n",
       "      <td>14.0</td>\n",
       "      <td>NaN</td>\n",
       "    </tr>\n",
       "    <tr>\n",
       "      <th>3</th>\n",
       "      <td>1995-04-01</td>\n",
       "      <td>city of london</td>\n",
       "      <td>77101</td>\n",
       "      <td>E09000001</td>\n",
       "      <td>7.0</td>\n",
       "      <td>NaN</td>\n",
       "    </tr>\n",
       "    <tr>\n",
       "      <th>4</th>\n",
       "      <td>1995-05-01</td>\n",
       "      <td>city of london</td>\n",
       "      <td>84409</td>\n",
       "      <td>E09000001</td>\n",
       "      <td>10.0</td>\n",
       "      <td>NaN</td>\n",
       "    </tr>\n",
       "    <tr>\n",
       "      <th>...</th>\n",
       "      <td>...</td>\n",
       "      <td>...</td>\n",
       "      <td>...</td>\n",
       "      <td>...</td>\n",
       "      <td>...</td>\n",
       "      <td>...</td>\n",
       "    </tr>\n",
       "    <tr>\n",
       "      <th>13544</th>\n",
       "      <td>2019-09-01</td>\n",
       "      <td>england</td>\n",
       "      <td>249942</td>\n",
       "      <td>E92000001</td>\n",
       "      <td>64605.0</td>\n",
       "      <td>NaN</td>\n",
       "    </tr>\n",
       "    <tr>\n",
       "      <th>13545</th>\n",
       "      <td>2019-10-01</td>\n",
       "      <td>england</td>\n",
       "      <td>249376</td>\n",
       "      <td>E92000001</td>\n",
       "      <td>68677.0</td>\n",
       "      <td>NaN</td>\n",
       "    </tr>\n",
       "    <tr>\n",
       "      <th>13546</th>\n",
       "      <td>2019-11-01</td>\n",
       "      <td>england</td>\n",
       "      <td>248515</td>\n",
       "      <td>E92000001</td>\n",
       "      <td>67814.0</td>\n",
       "      <td>NaN</td>\n",
       "    </tr>\n",
       "    <tr>\n",
       "      <th>13547</th>\n",
       "      <td>2019-12-01</td>\n",
       "      <td>england</td>\n",
       "      <td>250410</td>\n",
       "      <td>E92000001</td>\n",
       "      <td>NaN</td>\n",
       "      <td>NaN</td>\n",
       "    </tr>\n",
       "    <tr>\n",
       "      <th>13548</th>\n",
       "      <td>2020-01-01</td>\n",
       "      <td>england</td>\n",
       "      <td>247355</td>\n",
       "      <td>E92000001</td>\n",
       "      <td>NaN</td>\n",
       "      <td>NaN</td>\n",
       "    </tr>\n",
       "  </tbody>\n",
       "</table>\n",
       "<p>13549 rows × 6 columns</p>\n",
       "</div>"
      ],
      "text/plain": [
       "            date            area  average_price       code  houses_sold  \\\n",
       "0     1995-01-01  city of london          91449  E09000001         17.0   \n",
       "1     1995-02-01  city of london          82203  E09000001          7.0   \n",
       "2     1995-03-01  city of london          79121  E09000001         14.0   \n",
       "3     1995-04-01  city of london          77101  E09000001          7.0   \n",
       "4     1995-05-01  city of london          84409  E09000001         10.0   \n",
       "...          ...             ...            ...        ...          ...   \n",
       "13544 2019-09-01         england         249942  E92000001      64605.0   \n",
       "13545 2019-10-01         england         249376  E92000001      68677.0   \n",
       "13546 2019-11-01         england         248515  E92000001      67814.0   \n",
       "13547 2019-12-01         england         250410  E92000001          NaN   \n",
       "13548 2020-01-01         england         247355  E92000001          NaN   \n",
       "\n",
       "       no_of_crimes  \n",
       "0               NaN  \n",
       "1               NaN  \n",
       "2               NaN  \n",
       "3               NaN  \n",
       "4               NaN  \n",
       "...             ...  \n",
       "13544           NaN  \n",
       "13545           NaN  \n",
       "13546           NaN  \n",
       "13547           NaN  \n",
       "13548           NaN  \n",
       "\n",
       "[13549 rows x 6 columns]"
      ]
     },
     "execution_count": 31,
     "metadata": {},
     "output_type": "execute_result"
    }
   ],
   "source": [
    "df"
   ]
  },
  {
   "cell_type": "markdown",
   "id": "44a76fbd",
   "metadata": {},
   "source": [
    "###### 4. show all the the records where no of crimes is 0 and how many such records are there\n"
   ]
  },
  {
   "cell_type": "code",
   "execution_count": 33,
   "id": "137f9dbc",
   "metadata": {},
   "outputs": [
    {
     "data": {
      "text/html": [
       "<div>\n",
       "<style scoped>\n",
       "    .dataframe tbody tr th:only-of-type {\n",
       "        vertical-align: middle;\n",
       "    }\n",
       "\n",
       "    .dataframe tbody tr th {\n",
       "        vertical-align: top;\n",
       "    }\n",
       "\n",
       "    .dataframe thead th {\n",
       "        text-align: right;\n",
       "    }\n",
       "</style>\n",
       "<table border=\"1\" class=\"dataframe\">\n",
       "  <thead>\n",
       "    <tr style=\"text-align: right;\">\n",
       "      <th></th>\n",
       "      <th>date</th>\n",
       "      <th>area</th>\n",
       "      <th>average_price</th>\n",
       "      <th>code</th>\n",
       "      <th>houses_sold</th>\n",
       "      <th>no_of_crimes</th>\n",
       "    </tr>\n",
       "  </thead>\n",
       "  <tbody>\n",
       "    <tr>\n",
       "      <th>72</th>\n",
       "      <td>2001-01-01</td>\n",
       "      <td>city of london</td>\n",
       "      <td>284262</td>\n",
       "      <td>E09000001</td>\n",
       "      <td>24.0</td>\n",
       "      <td>0.0</td>\n",
       "    </tr>\n",
       "    <tr>\n",
       "      <th>73</th>\n",
       "      <td>2001-02-01</td>\n",
       "      <td>city of london</td>\n",
       "      <td>198137</td>\n",
       "      <td>E09000001</td>\n",
       "      <td>37.0</td>\n",
       "      <td>0.0</td>\n",
       "    </tr>\n",
       "    <tr>\n",
       "      <th>74</th>\n",
       "      <td>2001-03-01</td>\n",
       "      <td>city of london</td>\n",
       "      <td>189033</td>\n",
       "      <td>E09000001</td>\n",
       "      <td>44.0</td>\n",
       "      <td>0.0</td>\n",
       "    </tr>\n",
       "    <tr>\n",
       "      <th>75</th>\n",
       "      <td>2001-04-01</td>\n",
       "      <td>city of london</td>\n",
       "      <td>205494</td>\n",
       "      <td>E09000001</td>\n",
       "      <td>38.0</td>\n",
       "      <td>0.0</td>\n",
       "    </tr>\n",
       "    <tr>\n",
       "      <th>76</th>\n",
       "      <td>2001-05-01</td>\n",
       "      <td>city of london</td>\n",
       "      <td>223459</td>\n",
       "      <td>E09000001</td>\n",
       "      <td>30.0</td>\n",
       "      <td>0.0</td>\n",
       "    </tr>\n",
       "    <tr>\n",
       "      <th>...</th>\n",
       "      <td>...</td>\n",
       "      <td>...</td>\n",
       "      <td>...</td>\n",
       "      <td>...</td>\n",
       "      <td>...</td>\n",
       "      <td>...</td>\n",
       "    </tr>\n",
       "    <tr>\n",
       "      <th>178</th>\n",
       "      <td>2009-11-01</td>\n",
       "      <td>city of london</td>\n",
       "      <td>397909</td>\n",
       "      <td>E09000001</td>\n",
       "      <td>11.0</td>\n",
       "      <td>0.0</td>\n",
       "    </tr>\n",
       "    <tr>\n",
       "      <th>179</th>\n",
       "      <td>2009-12-01</td>\n",
       "      <td>city of london</td>\n",
       "      <td>411955</td>\n",
       "      <td>E09000001</td>\n",
       "      <td>16.0</td>\n",
       "      <td>0.0</td>\n",
       "    </tr>\n",
       "    <tr>\n",
       "      <th>180</th>\n",
       "      <td>2010-01-01</td>\n",
       "      <td>city of london</td>\n",
       "      <td>464436</td>\n",
       "      <td>E09000001</td>\n",
       "      <td>20.0</td>\n",
       "      <td>0.0</td>\n",
       "    </tr>\n",
       "    <tr>\n",
       "      <th>181</th>\n",
       "      <td>2010-02-01</td>\n",
       "      <td>city of london</td>\n",
       "      <td>490525</td>\n",
       "      <td>E09000001</td>\n",
       "      <td>9.0</td>\n",
       "      <td>0.0</td>\n",
       "    </tr>\n",
       "    <tr>\n",
       "      <th>182</th>\n",
       "      <td>2010-03-01</td>\n",
       "      <td>city of london</td>\n",
       "      <td>498241</td>\n",
       "      <td>E09000001</td>\n",
       "      <td>15.0</td>\n",
       "      <td>0.0</td>\n",
       "    </tr>\n",
       "  </tbody>\n",
       "</table>\n",
       "<p>104 rows × 6 columns</p>\n",
       "</div>"
      ],
      "text/plain": [
       "          date            area  average_price       code  houses_sold  \\\n",
       "72  2001-01-01  city of london         284262  E09000001         24.0   \n",
       "73  2001-02-01  city of london         198137  E09000001         37.0   \n",
       "74  2001-03-01  city of london         189033  E09000001         44.0   \n",
       "75  2001-04-01  city of london         205494  E09000001         38.0   \n",
       "76  2001-05-01  city of london         223459  E09000001         30.0   \n",
       "..         ...             ...            ...        ...          ...   \n",
       "178 2009-11-01  city of london         397909  E09000001         11.0   \n",
       "179 2009-12-01  city of london         411955  E09000001         16.0   \n",
       "180 2010-01-01  city of london         464436  E09000001         20.0   \n",
       "181 2010-02-01  city of london         490525  E09000001          9.0   \n",
       "182 2010-03-01  city of london         498241  E09000001         15.0   \n",
       "\n",
       "     no_of_crimes  \n",
       "72            0.0  \n",
       "73            0.0  \n",
       "74            0.0  \n",
       "75            0.0  \n",
       "76            0.0  \n",
       "..            ...  \n",
       "178           0.0  \n",
       "179           0.0  \n",
       "180           0.0  \n",
       "181           0.0  \n",
       "182           0.0  \n",
       "\n",
       "[104 rows x 6 columns]"
      ]
     },
     "execution_count": 33,
     "metadata": {},
     "output_type": "execute_result"
    }
   ],
   "source": [
    "df_crimes = df[df[\"no_of_crimes\"] ==0 ]\n",
    "df_crimes"
   ]
  },
  {
   "cell_type": "code",
   "execution_count": 34,
   "id": "548723f0",
   "metadata": {},
   "outputs": [
    {
     "data": {
      "text/plain": [
       "104"
      ]
     },
     "execution_count": 34,
     "metadata": {},
     "output_type": "execute_result"
    }
   ],
   "source": [
    "len(df_crimes) "
   ]
  },
  {
   "cell_type": "code",
   "execution_count": 35,
   "id": "452ca881",
   "metadata": {},
   "outputs": [],
   "source": [
    "# there are 104 records where no of crimes is 0 "
   ]
  },
  {
   "cell_type": "markdown",
   "id": "83b7779f",
   "metadata": {},
   "source": [
    "###### 5. what is the maximum and minimum average price per year in england"
   ]
  },
  {
   "cell_type": "code",
   "execution_count": 53,
   "id": "4e653708",
   "metadata": {},
   "outputs": [],
   "source": [
    "df['year'] = df[\"date\"].dt.year\n",
    "df1 = df[df[\"area\"] == \"england\"]"
   ]
  },
  {
   "cell_type": "code",
   "execution_count": 54,
   "id": "e9c8dfc2",
   "metadata": {},
   "outputs": [
    {
     "data": {
      "text/plain": [
       "year\n",
       "1995     53901\n",
       "1996     55755\n",
       "1997     61564\n",
       "1998     65743\n",
       "1999     75071\n",
       "2000     84191\n",
       "2001     95992\n",
       "2002    119982\n",
       "2003    138985\n",
       "2004    160330\n",
       "2005    167244\n",
       "2006    182031\n",
       "2007    194764\n",
       "2008    191750\n",
       "2009    174136\n",
       "2010    180807\n",
       "2011    177335\n",
       "2012    180129\n",
       "2013    188544\n",
       "2014    203639\n",
       "2015    219582\n",
       "2016    231922\n",
       "2017    242628\n",
       "2018    248620\n",
       "2019    250410\n",
       "2020    247355\n",
       "Name: average_price, dtype: int64"
      ]
     },
     "execution_count": 54,
     "metadata": {},
     "output_type": "execute_result"
    }
   ],
   "source": [
    "df1.groupby('year').average_price.max()"
   ]
  },
  {
   "cell_type": "code",
   "execution_count": 55,
   "id": "d0046561",
   "metadata": {},
   "outputs": [
    {
     "data": {
      "text/plain": [
       "year\n",
       "1995     52788\n",
       "1996     52333\n",
       "1997     55789\n",
       "1998     61659\n",
       "1999     65522\n",
       "2000     75219\n",
       "2001     84245\n",
       "2002     96215\n",
       "2003    121610\n",
       "2004    139719\n",
       "2005    158572\n",
       "2006    166544\n",
       "2007    181824\n",
       "2008    165795\n",
       "2009    159340\n",
       "2010    174458\n",
       "2011    173046\n",
       "2012    174161\n",
       "2013    176816\n",
       "2014    188265\n",
       "2015    202856\n",
       "2016    220361\n",
       "2017    231593\n",
       "2018    240428\n",
       "2019    243281\n",
       "2020    247355\n",
       "Name: average_price, dtype: int64"
      ]
     },
     "execution_count": 55,
     "metadata": {},
     "output_type": "execute_result"
    }
   ],
   "source": [
    "df1.groupby('year').average_price.min()"
   ]
  },
  {
   "cell_type": "markdown",
   "id": "5516be94",
   "metadata": {},
   "source": [
    "###### 6. what is the maximum and minimum no of crimes recorded per year"
   ]
  },
  {
   "cell_type": "code",
   "execution_count": 62,
   "id": "dda62a9b",
   "metadata": {},
   "outputs": [
    {
     "data": {
      "text/plain": [
       "year\n",
       "1995       NaN\n",
       "1996       NaN\n",
       "1997       NaN\n",
       "1998       NaN\n",
       "1999       NaN\n",
       "2000       NaN\n",
       "2001    7002.0\n",
       "2002    7076.0\n",
       "2003    6149.0\n",
       "2004    6290.0\n",
       "2005    5753.0\n",
       "2006    5467.0\n",
       "2007    5509.0\n",
       "2008    5578.0\n",
       "2009    5703.0\n",
       "2010    5766.0\n",
       "2011    6106.0\n",
       "2012    5972.0\n",
       "2013    5047.0\n",
       "2014    4478.0\n",
       "2015    4561.0\n",
       "2016    4903.0\n",
       "2017    5198.0\n",
       "2018    6743.0\n",
       "2019    7461.0\n",
       "2020    6405.0\n",
       "Name: no_of_crimes, dtype: float64"
      ]
     },
     "execution_count": 62,
     "metadata": {},
     "output_type": "execute_result"
    }
   ],
   "source": [
    "df.groupby(\"year\")[\"no_of_crimes\"].max()"
   ]
  },
  {
   "cell_type": "code",
   "execution_count": 63,
   "id": "f5fb3bc5",
   "metadata": {},
   "outputs": [
    {
     "data": {
      "text/plain": [
       "year\n",
       "1995       NaN\n",
       "1996       NaN\n",
       "1997       NaN\n",
       "1998       NaN\n",
       "1999       NaN\n",
       "2000       NaN\n",
       "2001       0.0\n",
       "2002       0.0\n",
       "2003       0.0\n",
       "2004       0.0\n",
       "2005       0.0\n",
       "2006       0.0\n",
       "2007       0.0\n",
       "2008       0.0\n",
       "2009       0.0\n",
       "2010       0.0\n",
       "2011     790.0\n",
       "2012     774.0\n",
       "2013     740.0\n",
       "2014     692.0\n",
       "2015     763.0\n",
       "2016     795.0\n",
       "2017     868.0\n",
       "2018     898.0\n",
       "2019     974.0\n",
       "2020    1124.0\n",
       "Name: no_of_crimes, dtype: float64"
      ]
     },
     "execution_count": 63,
     "metadata": {},
     "output_type": "execute_result"
    }
   ],
   "source": [
    "df.groupby(\"year\")[\"no_of_crimes\"].min()"
   ]
  },
  {
   "cell_type": "markdown",
   "id": "d2d0bf91",
   "metadata": {},
   "source": [
    "###### 7. show the total count of records of each area, where average price is less than 100000"
   ]
  },
  {
   "cell_type": "code",
   "execution_count": 67,
   "id": "e4cd8858",
   "metadata": {},
   "outputs": [
    {
     "data": {
      "text/plain": [
       "north east              112\n",
       "north west              111\n",
       "yorks and the humber    110\n",
       "east midlands            96\n",
       "west midlands            94\n",
       "england                  87\n",
       "barking and dagenham     85\n",
       "south west               78\n",
       "east of england          76\n",
       "newham                   72\n",
       "bexley                   64\n",
       "waltham forest           64\n",
       "lewisham                 62\n",
       "havering                 60\n",
       "south east               59\n",
       "greenwich                59\n",
       "croydon                  57\n",
       "enfield                  54\n",
       "sutton                   54\n",
       "hackney                  53\n",
       "redbridge                52\n",
       "southwark                48\n",
       "tower hamlets            47\n",
       "outer london             46\n",
       "hillingdon               44\n",
       "lambeth                  41\n",
       "hounslow                 41\n",
       "brent                    40\n",
       "london                   39\n",
       "merton                   35\n",
       "haringey                 33\n",
       "bromley                  33\n",
       "inner london             31\n",
       "ealing                   31\n",
       "kingston upon thames     30\n",
       "harrow                   30\n",
       "wandsworth               26\n",
       "barnet                   25\n",
       "islington                19\n",
       "city of london           11\n",
       "Name: area, dtype: int64"
      ]
     },
     "execution_count": 67,
     "metadata": {},
     "output_type": "execute_result"
    }
   ],
   "source": [
    "df[df[\"average_price\"] < 100000][\"area\"].value_counts()"
   ]
  },
  {
   "cell_type": "code",
   "execution_count": null,
   "id": "5f3cf0ba",
   "metadata": {},
   "outputs": [],
   "source": []
  }
 ],
 "metadata": {
  "kernelspec": {
   "display_name": "Python 3 (ipykernel)",
   "language": "python",
   "name": "python3"
  },
  "language_info": {
   "codemirror_mode": {
    "name": "ipython",
    "version": 3
   },
   "file_extension": ".py",
   "mimetype": "text/x-python",
   "name": "python",
   "nbconvert_exporter": "python",
   "pygments_lexer": "ipython3",
   "version": "3.10.9"
  }
 },
 "nbformat": 4,
 "nbformat_minor": 5
}
